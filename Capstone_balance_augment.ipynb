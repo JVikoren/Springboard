{
 "cells": [
  {
   "cell_type": "code",
   "execution_count": 2,
   "metadata": {},
   "outputs": [
    {
     "name": "stderr",
     "output_type": "stream",
     "text": [
      "Using TensorFlow backend.\n"
     ]
    }
   ],
   "source": [
    "import numpy as np\n",
    "import pandas as pd\n",
    "\n",
    "import os\n",
    "import os.path\n",
    "import shutil\n",
    "from glob import glob\n",
    "from PIL import Image\n",
    "\n",
    "from sklearn.model_selection import train_test_split\n",
    "\n",
    "import tensorflow as tf\n",
    "from tensorflow import keras\n",
    "from keras.preprocessing.image import ImageDataGenerator\n",
    "\n",
    "import warnings\n",
    "warnings.filterwarnings('ignore')"
   ]
  },
  {
   "cell_type": "code",
   "execution_count": 3,
   "metadata": {},
   "outputs": [],
   "source": [
    "# Define root and base directories\n",
    "root_dir = '/Users/leaf/SpringBoard/Capstone'\n",
    "base_skin_dir = root_dir + '/data/Kaggle_HAM10000'\n",
    "\n",
    "# Build a dictionary with image id and path\n",
    "imageid_path_dict = {os.path.splitext(os.path.basename(x))[0]: x\n",
    "                     for x in glob(os.path.join(base_skin_dir, '*', '*.jpg'))}\n",
    "\n",
    "# Create a dictionary of abbreviation definitions\n",
    "lesion_type_dict = {\n",
    "    'nv': 'Melanocytic nevi',\n",
    "    'mel': 'Melanoma',\n",
    "    'bkl': 'Benign keratosis-like lesions ',\n",
    "    'bcc': 'Basal cell carcinoma',\n",
    "    'akiec': 'Actinic keratoses',\n",
    "    'vasc': 'Vascular lesions',\n",
    "    'df': 'Dermatofibroma'\n",
    "}\n",
    "\n",
    "# Create a dictionary of index codes\n",
    "lesion_index_dict = {\n",
    "    'nv': 0,\n",
    "    'mel': 1,\n",
    "    'bkl': 2,\n",
    "    'bcc': 3,\n",
    "    'akiec': 4,\n",
    "    'vasc': 5,\n",
    "    'df': 6\n",
    "}"
   ]
  },
  {
   "cell_type": "code",
   "execution_count": 4,
   "metadata": {},
   "outputs": [
    {
     "data": {
      "text/html": [
       "<div>\n",
       "<style scoped>\n",
       "    .dataframe tbody tr th:only-of-type {\n",
       "        vertical-align: middle;\n",
       "    }\n",
       "\n",
       "    .dataframe tbody tr th {\n",
       "        vertical-align: top;\n",
       "    }\n",
       "\n",
       "    .dataframe thead th {\n",
       "        text-align: right;\n",
       "    }\n",
       "</style>\n",
       "<table border=\"1\" class=\"dataframe\">\n",
       "  <thead>\n",
       "    <tr style=\"text-align: right;\">\n",
       "      <th></th>\n",
       "      <th>lesion_id</th>\n",
       "      <th>image_id</th>\n",
       "      <th>dx</th>\n",
       "      <th>dx_type</th>\n",
       "      <th>age</th>\n",
       "      <th>sex</th>\n",
       "      <th>localization</th>\n",
       "      <th>path</th>\n",
       "      <th>cell_type</th>\n",
       "      <th>cell_type_idx</th>\n",
       "    </tr>\n",
       "  </thead>\n",
       "  <tbody>\n",
       "    <tr>\n",
       "      <th>2470</th>\n",
       "      <td>HAM_0006834</td>\n",
       "      <td>ISIC_0027526</td>\n",
       "      <td>bcc</td>\n",
       "      <td>histo</td>\n",
       "      <td>85.0</td>\n",
       "      <td>male</td>\n",
       "      <td>face</td>\n",
       "      <td>/Users/leaf/SpringBoard/Capstone/data/Kaggle_H...</td>\n",
       "      <td>Basal cell carcinoma</td>\n",
       "      <td>3</td>\n",
       "    </tr>\n",
       "    <tr>\n",
       "      <th>5260</th>\n",
       "      <td>HAM_0001267</td>\n",
       "      <td>ISIC_0030454</td>\n",
       "      <td>nv</td>\n",
       "      <td>follow_up</td>\n",
       "      <td>45.0</td>\n",
       "      <td>male</td>\n",
       "      <td>lower extremity</td>\n",
       "      <td>/Users/leaf/SpringBoard/Capstone/data/Kaggle_H...</td>\n",
       "      <td>Melanocytic nevi</td>\n",
       "      <td>0</td>\n",
       "    </tr>\n",
       "    <tr>\n",
       "      <th>6379</th>\n",
       "      <td>HAM_0000620</td>\n",
       "      <td>ISIC_0027414</td>\n",
       "      <td>nv</td>\n",
       "      <td>follow_up</td>\n",
       "      <td>30.0</td>\n",
       "      <td>female</td>\n",
       "      <td>trunk</td>\n",
       "      <td>/Users/leaf/SpringBoard/Capstone/data/Kaggle_H...</td>\n",
       "      <td>Melanocytic nevi</td>\n",
       "      <td>0</td>\n",
       "    </tr>\n",
       "  </tbody>\n",
       "</table>\n",
       "</div>"
      ],
      "text/plain": [
       "        lesion_id      image_id   dx    dx_type   age     sex  \\\n",
       "2470  HAM_0006834  ISIC_0027526  bcc      histo  85.0    male   \n",
       "5260  HAM_0001267  ISIC_0030454   nv  follow_up  45.0    male   \n",
       "6379  HAM_0000620  ISIC_0027414   nv  follow_up  30.0  female   \n",
       "\n",
       "         localization                                               path  \\\n",
       "2470             face  /Users/leaf/SpringBoard/Capstone/data/Kaggle_H...   \n",
       "5260  lower extremity  /Users/leaf/SpringBoard/Capstone/data/Kaggle_H...   \n",
       "6379            trunk  /Users/leaf/SpringBoard/Capstone/data/Kaggle_H...   \n",
       "\n",
       "                 cell_type  cell_type_idx  \n",
       "2470  Basal cell carcinoma              3  \n",
       "5260      Melanocytic nevi              0  \n",
       "6379      Melanocytic nevi              0  "
      ]
     },
     "execution_count": 4,
     "metadata": {},
     "output_type": "execute_result"
    }
   ],
   "source": [
    "# Build dataframe\n",
    "tile_df = pd.read_csv(os.path.join(base_skin_dir, 'HAM10000_metadata.csv'))\n",
    "tile_df['path'] = tile_df['image_id'].map(imageid_path_dict.get)\n",
    "tile_df['cell_type'] = tile_df['dx'].map(lesion_type_dict.get) \n",
    "tile_df['cell_type_idx'] = tile_df['dx'].map(lesion_index_dict.get)\n",
    "tile_df.sample(3)"
   ]
  },
  {
   "cell_type": "code",
   "execution_count": 5,
   "metadata": {},
   "outputs": [],
   "source": [
    "# Load and resize images\n",
    "tile_df['image'] = tile_df['path'].map(lambda x: np.asarray(Image.open(x)))"
   ]
  },
  {
   "cell_type": "code",
   "execution_count": 6,
   "metadata": {},
   "outputs": [
    {
     "data": {
      "text/plain": [
       "Melanocytic nevi                  6705\n",
       "Melanoma                          1113\n",
       "Benign keratosis-like lesions     1099\n",
       "Basal cell carcinoma               514\n",
       "Actinic keratoses                  327\n",
       "Vascular lesions                   142\n",
       "Dermatofibroma                     115\n",
       "Name: cell_type, dtype: int64"
      ]
     },
     "execution_count": 6,
     "metadata": {},
     "output_type": "execute_result"
    }
   ],
   "source": [
    "tile_df['cell_type'].value_counts()"
   ]
  },
  {
   "cell_type": "code",
   "execution_count": 7,
   "metadata": {},
   "outputs": [
    {
     "data": {
      "text/html": [
       "<div>\n",
       "<style scoped>\n",
       "    .dataframe tbody tr th:only-of-type {\n",
       "        vertical-align: middle;\n",
       "    }\n",
       "\n",
       "    .dataframe tbody tr th {\n",
       "        vertical-align: top;\n",
       "    }\n",
       "\n",
       "    .dataframe thead th {\n",
       "        text-align: right;\n",
       "    }\n",
       "</style>\n",
       "<table border=\"1\" class=\"dataframe\">\n",
       "  <thead>\n",
       "    <tr style=\"text-align: right;\">\n",
       "      <th></th>\n",
       "      <th>lesion_id</th>\n",
       "      <th>image_id</th>\n",
       "    </tr>\n",
       "  </thead>\n",
       "  <tbody>\n",
       "    <tr>\n",
       "      <th>0</th>\n",
       "      <td>HAM_0000001</td>\n",
       "      <td>1</td>\n",
       "    </tr>\n",
       "    <tr>\n",
       "      <th>1</th>\n",
       "      <td>HAM_0000003</td>\n",
       "      <td>1</td>\n",
       "    </tr>\n",
       "    <tr>\n",
       "      <th>2</th>\n",
       "      <td>HAM_0000004</td>\n",
       "      <td>1</td>\n",
       "    </tr>\n",
       "    <tr>\n",
       "      <th>3</th>\n",
       "      <td>HAM_0000007</td>\n",
       "      <td>1</td>\n",
       "    </tr>\n",
       "    <tr>\n",
       "      <th>4</th>\n",
       "      <td>HAM_0000008</td>\n",
       "      <td>1</td>\n",
       "    </tr>\n",
       "  </tbody>\n",
       "</table>\n",
       "</div>"
      ],
      "text/plain": [
       "     lesion_id  image_id\n",
       "0  HAM_0000001         1\n",
       "1  HAM_0000003         1\n",
       "2  HAM_0000004         1\n",
       "3  HAM_0000007         1\n",
       "4  HAM_0000008         1"
      ]
     },
     "execution_count": 7,
     "metadata": {},
     "output_type": "execute_result"
    }
   ],
   "source": [
    "# First we group by lesion id to see how many images per lesion we have\n",
    "duplicates_df = tile_df.iloc[:,:2].groupby('lesion_id').count()\n",
    "\n",
    "# Then, we filter for all lesions that only have one associated image.\n",
    "# Thus, we can be assured that the same lesion will not be found in the \n",
    "# training as well as the test images. \n",
    "\n",
    "duplicates_df = duplicates_df[duplicates_df['image_id'] == 1]\n",
    "duplicates_df.reset_index(inplace=True)\n",
    "duplicates_df.head()"
   ]
  },
  {
   "cell_type": "code",
   "execution_count": 8,
   "metadata": {},
   "outputs": [
    {
     "data": {
      "text/html": [
       "<div>\n",
       "<style scoped>\n",
       "    .dataframe tbody tr th:only-of-type {\n",
       "        vertical-align: middle;\n",
       "    }\n",
       "\n",
       "    .dataframe tbody tr th {\n",
       "        vertical-align: top;\n",
       "    }\n",
       "\n",
       "    .dataframe thead th {\n",
       "        text-align: right;\n",
       "    }\n",
       "</style>\n",
       "<table border=\"1\" class=\"dataframe\">\n",
       "  <thead>\n",
       "    <tr style=\"text-align: right;\">\n",
       "      <th></th>\n",
       "      <th>lesion_id</th>\n",
       "      <th>image_id</th>\n",
       "      <th>dx</th>\n",
       "      <th>dx_type</th>\n",
       "      <th>age</th>\n",
       "      <th>sex</th>\n",
       "      <th>localization</th>\n",
       "      <th>path</th>\n",
       "      <th>cell_type</th>\n",
       "      <th>cell_type_idx</th>\n",
       "      <th>image</th>\n",
       "      <th>duplicates</th>\n",
       "    </tr>\n",
       "  </thead>\n",
       "  <tbody>\n",
       "    <tr>\n",
       "      <th>0</th>\n",
       "      <td>HAM_0000118</td>\n",
       "      <td>ISIC_0027419</td>\n",
       "      <td>bkl</td>\n",
       "      <td>histo</td>\n",
       "      <td>80.0</td>\n",
       "      <td>male</td>\n",
       "      <td>scalp</td>\n",
       "      <td>/Users/leaf/SpringBoard/Capstone/data/Kaggle_H...</td>\n",
       "      <td>Benign keratosis-like lesions</td>\n",
       "      <td>2</td>\n",
       "      <td>[[[188, 147, 191], [186, 148, 189], [187, 150,...</td>\n",
       "      <td>has_duplicates</td>\n",
       "    </tr>\n",
       "    <tr>\n",
       "      <th>1</th>\n",
       "      <td>HAM_0000118</td>\n",
       "      <td>ISIC_0025030</td>\n",
       "      <td>bkl</td>\n",
       "      <td>histo</td>\n",
       "      <td>80.0</td>\n",
       "      <td>male</td>\n",
       "      <td>scalp</td>\n",
       "      <td>/Users/leaf/SpringBoard/Capstone/data/Kaggle_H...</td>\n",
       "      <td>Benign keratosis-like lesions</td>\n",
       "      <td>2</td>\n",
       "      <td>[[[25, 15, 23], [25, 14, 22], [25, 14, 22], [2...</td>\n",
       "      <td>has_duplicates</td>\n",
       "    </tr>\n",
       "    <tr>\n",
       "      <th>2</th>\n",
       "      <td>HAM_0002730</td>\n",
       "      <td>ISIC_0026769</td>\n",
       "      <td>bkl</td>\n",
       "      <td>histo</td>\n",
       "      <td>80.0</td>\n",
       "      <td>male</td>\n",
       "      <td>scalp</td>\n",
       "      <td>/Users/leaf/SpringBoard/Capstone/data/Kaggle_H...</td>\n",
       "      <td>Benign keratosis-like lesions</td>\n",
       "      <td>2</td>\n",
       "      <td>[[[186, 128, 140], [188, 128, 136], [183, 126,...</td>\n",
       "      <td>has_duplicates</td>\n",
       "    </tr>\n",
       "  </tbody>\n",
       "</table>\n",
       "</div>"
      ],
      "text/plain": [
       "     lesion_id      image_id   dx dx_type   age   sex localization  \\\n",
       "0  HAM_0000118  ISIC_0027419  bkl   histo  80.0  male        scalp   \n",
       "1  HAM_0000118  ISIC_0025030  bkl   histo  80.0  male        scalp   \n",
       "2  HAM_0002730  ISIC_0026769  bkl   histo  80.0  male        scalp   \n",
       "\n",
       "                                                path  \\\n",
       "0  /Users/leaf/SpringBoard/Capstone/data/Kaggle_H...   \n",
       "1  /Users/leaf/SpringBoard/Capstone/data/Kaggle_H...   \n",
       "2  /Users/leaf/SpringBoard/Capstone/data/Kaggle_H...   \n",
       "\n",
       "                        cell_type  cell_type_idx  \\\n",
       "0  Benign keratosis-like lesions               2   \n",
       "1  Benign keratosis-like lesions               2   \n",
       "2  Benign keratosis-like lesions               2   \n",
       "\n",
       "                                               image      duplicates  \n",
       "0  [[[188, 147, 191], [186, 148, 189], [187, 150,...  has_duplicates  \n",
       "1  [[[25, 15, 23], [25, 14, 22], [25, 14, 22], [2...  has_duplicates  \n",
       "2  [[[186, 128, 140], [188, 128, 136], [183, 126,...  has_duplicates  "
      ]
     },
     "execution_count": 8,
     "metadata": {},
     "output_type": "execute_result"
    }
   ],
   "source": [
    "# Prepare a function to identify lesions with no duplicate images\n",
    "def identify_duplicates(x):\n",
    "    \n",
    "    unique_list = list(duplicates_df['lesion_id'])\n",
    "    \n",
    "    if x in unique_list:\n",
    "        return 'no_duplicates'\n",
    "    else:\n",
    "        return 'has_duplicates'\n",
    "    \n",
    "# Add a column to our dataframe that will mark images with duplicate pairs\n",
    "tile_df['duplicates'] = tile_df['lesion_id']\n",
    "\n",
    "# Use our function to map lesion ID to a 'duplicate' marker in the main dataframe\n",
    "tile_df['duplicates'] = tile_df['duplicates'].apply(identify_duplicates)\n",
    "\n",
    "tile_df.head(3)"
   ]
  },
  {
   "cell_type": "code",
   "execution_count": 9,
   "metadata": {},
   "outputs": [
    {
     "data": {
      "text/plain": [
       "no_duplicates     5514\n",
       "has_duplicates    4501\n",
       "Name: duplicates, dtype: int64"
      ]
     },
     "execution_count": 9,
     "metadata": {},
     "output_type": "execute_result"
    }
   ],
   "source": [
    "tile_df['duplicates'].value_counts()"
   ]
  },
  {
   "cell_type": "code",
   "execution_count": 10,
   "metadata": {},
   "outputs": [
    {
     "data": {
      "text/plain": [
       "(5514, 12)"
      ]
     },
     "execution_count": 10,
     "metadata": {},
     "output_type": "execute_result"
    }
   ],
   "source": [
    "# We will use images with no duplicates to build our test and validation sets\n",
    "no_duplicates_df = tile_df[tile_df['duplicates'] == 'no_duplicates']\n",
    "\n",
    "no_duplicates_df.shape"
   ]
  },
  {
   "cell_type": "code",
   "execution_count": 11,
   "metadata": {},
   "outputs": [],
   "source": [
    "# Now we select a portion of our 'no_duplicate' images to create our test and\n",
    "# validation sets. Note that test_size = .55 so that we end up with ~3k images\n",
    "# which represents about 30% of our full dataset of ~10k images. \n",
    "y = no_duplicates_df['cell_type_idx']\n",
    "_, test_val_df = train_test_split(no_duplicates_df, \n",
    "                                    test_size = .55, \n",
    "                                    stratify=y, \n",
    "                                    random_state=108) "
   ]
  },
  {
   "cell_type": "code",
   "execution_count": 12,
   "metadata": {},
   "outputs": [
    {
     "data": {
      "text/plain": [
       "(3033, 12)"
      ]
     },
     "execution_count": 12,
     "metadata": {},
     "output_type": "execute_result"
    }
   ],
   "source": [
    "test_val_df.shape"
   ]
  },
  {
   "cell_type": "code",
   "execution_count": 13,
   "metadata": {},
   "outputs": [],
   "source": [
    "# Now we choose 20% of our test images to create our validation set \n",
    "y = test_val_df['cell_type_idx']\n",
    "test_df, valid_df = train_test_split(test_val_df, \n",
    "                                       test_size = .2, \n",
    "                                       stratify=y, \n",
    "                                       random_state=108) "
   ]
  },
  {
   "cell_type": "code",
   "execution_count": 14,
   "metadata": {},
   "outputs": [],
   "source": [
    "# Now that we have our test and validation images set up, let's\n",
    "# construct a training dataframe that contains the remaining images\n",
    "\n",
    "# Define a function to identify if an image is in our test or \n",
    "# validation sets. \n",
    "def identify_val_rows(x):\n",
    "    # create a list of all the lesion_id's in the val set\n",
    "    test_list = list(test_df['image_id'])\n",
    "    val_list = list(valid_df['image_id'])\n",
    "    \n",
    "    if str(x) in test_list or str(x) in val_list:\n",
    "        return 'test_val'\n",
    "    else:\n",
    "        return 'train'\n",
    "\n",
    "# Create a new colum that is a copy of the image_id column\n",
    "tile_df['train_or_val'] = tile_df['image_id']\n",
    "# Apply our function to this new column to create a label for images\n",
    "# in test or validation sets\n",
    "tile_df['train_or_val'] = tile_df['train_or_val'].apply(identify_val_rows)\n",
    "   \n",
    "# Finally, we create a training dataframe with the appropriate images\n",
    "train_df = tile_df[tile_df['train_or_val'] == 'train']"
   ]
  },
  {
   "cell_type": "code",
   "execution_count": 15,
   "metadata": {},
   "outputs": [
    {
     "name": "stdout",
     "output_type": "stream",
     "text": [
      "Training image count: 6982\n",
      "Test image count: 2426\n",
      "Validation image count: 607\n"
     ]
    }
   ],
   "source": [
    "print(f\"Training image count: {train_df.shape[0]}\")\n",
    "print(f\"Test image count: {test_df.shape[0]}\")\n",
    "print(f\"Validation image count: {valid_df.shape[0]}\")"
   ]
  },
  {
   "cell_type": "code",
   "execution_count": 16,
   "metadata": {},
   "outputs": [
    {
     "data": {
      "text/plain": [
       "nv       4276\n",
       "mel       986\n",
       "bkl       857\n",
       "bcc       418\n",
       "akiec     244\n",
       "vasc      107\n",
       "df         94\n",
       "Name: dx, dtype: int64"
      ]
     },
     "execution_count": 16,
     "metadata": {},
     "output_type": "execute_result"
    }
   ],
   "source": [
    "train_df['dx'].value_counts()"
   ]
  },
  {
   "cell_type": "code",
   "execution_count": 17,
   "metadata": {},
   "outputs": [
    {
     "data": {
      "text/plain": [
       "nv       1943\n",
       "bkl       193\n",
       "mel       102\n",
       "bcc        77\n",
       "akiec      66\n",
       "vasc       28\n",
       "df         17\n",
       "Name: dx, dtype: int64"
      ]
     },
     "execution_count": 17,
     "metadata": {},
     "output_type": "execute_result"
    }
   ],
   "source": [
    "test_df['dx'].value_counts()"
   ]
  },
  {
   "cell_type": "code",
   "execution_count": 18,
   "metadata": {},
   "outputs": [
    {
     "data": {
      "text/plain": [
       "nv       486\n",
       "bkl       49\n",
       "mel       25\n",
       "bcc       19\n",
       "akiec     17\n",
       "vasc       7\n",
       "df         4\n",
       "Name: dx, dtype: int64"
      ]
     },
     "execution_count": 18,
     "metadata": {},
     "output_type": "execute_result"
    }
   ],
   "source": [
    "valid_df['dx'].value_counts()"
   ]
  },
  {
   "cell_type": "code",
   "execution_count": 19,
   "metadata": {},
   "outputs": [],
   "source": [
    "# We can see that our train, test and validation sets add up to 10,015 images. \n",
    "# The train/test/valid split is (.7, .24, .6)"
   ]
  },
  {
   "cell_type": "code",
   "execution_count": 20,
   "metadata": {},
   "outputs": [],
   "source": [
    "####################### PROCEED TO TRAINING SET AUGMENTATION #######################"
   ]
  },
  {
   "cell_type": "code",
   "execution_count": 21,
   "metadata": {},
   "outputs": [
    {
     "data": {
      "text/plain": [
       "nv       4276\n",
       "mel       986\n",
       "bkl       857\n",
       "bcc       418\n",
       "akiec     244\n",
       "vasc      107\n",
       "df         94\n",
       "Name: dx, dtype: int64"
      ]
     },
     "execution_count": 21,
     "metadata": {},
     "output_type": "execute_result"
    }
   ],
   "source": [
    "# Next we will be augmenting our training data. This will serve a dual purpose: \n",
    "# to increase our sample size, and to balance our dataset. Presently, our data is \n",
    "# significantly imbalanced. Based on the representation of each class in our \n",
    "# training set, we will selectively augment the data such that the total \n",
    "# representation of each class will become approximately equivalent. \n",
    "\n",
    "train_df['dx'].value_counts()"
   ]
  },
  {
   "cell_type": "code",
   "execution_count": 22,
   "metadata": {},
   "outputs": [
    {
     "data": {
      "text/html": [
       "<div>\n",
       "<style scoped>\n",
       "    .dataframe tbody tr th:only-of-type {\n",
       "        vertical-align: middle;\n",
       "    }\n",
       "\n",
       "    .dataframe tbody tr th {\n",
       "        vertical-align: top;\n",
       "    }\n",
       "\n",
       "    .dataframe thead th {\n",
       "        text-align: right;\n",
       "    }\n",
       "</style>\n",
       "<table border=\"1\" class=\"dataframe\">\n",
       "  <thead>\n",
       "    <tr style=\"text-align: right;\">\n",
       "      <th></th>\n",
       "      <th>cell_type</th>\n",
       "      <th>cell_type_idx</th>\n",
       "    </tr>\n",
       "  </thead>\n",
       "  <tbody>\n",
       "    <tr>\n",
       "      <th>0</th>\n",
       "      <td>Melanocytic nevi</td>\n",
       "      <td>0</td>\n",
       "    </tr>\n",
       "    <tr>\n",
       "      <th>1</th>\n",
       "      <td>Melanoma</td>\n",
       "      <td>1</td>\n",
       "    </tr>\n",
       "    <tr>\n",
       "      <th>2</th>\n",
       "      <td>Benign keratosis-like lesions</td>\n",
       "      <td>2</td>\n",
       "    </tr>\n",
       "    <tr>\n",
       "      <th>3</th>\n",
       "      <td>Basal cell carcinoma</td>\n",
       "      <td>3</td>\n",
       "    </tr>\n",
       "    <tr>\n",
       "      <th>4</th>\n",
       "      <td>Actinic keratoses</td>\n",
       "      <td>4</td>\n",
       "    </tr>\n",
       "    <tr>\n",
       "      <th>5</th>\n",
       "      <td>Vascular lesions</td>\n",
       "      <td>5</td>\n",
       "    </tr>\n",
       "    <tr>\n",
       "      <th>6</th>\n",
       "      <td>Dermatofibroma</td>\n",
       "      <td>6</td>\n",
       "    </tr>\n",
       "  </tbody>\n",
       "</table>\n",
       "</div>"
      ],
      "text/plain": [
       "                        cell_type  cell_type_idx\n",
       "0                Melanocytic nevi              0\n",
       "1                        Melanoma              1\n",
       "2  Benign keratosis-like lesions               2\n",
       "3            Basal cell carcinoma              3\n",
       "4               Actinic keratoses              4\n",
       "5                Vascular lesions              5\n",
       "6                  Dermatofibroma              6"
      ]
     },
     "execution_count": 22,
     "metadata": {},
     "output_type": "execute_result"
    }
   ],
   "source": [
    "# Let's create a dataframe that will tell us how many augmentation images\n",
    "# we need for eaching training sample to appropriately balance our data. \n",
    "# To begin, we create a dataframe with each class name and it's associated \n",
    "# index (sorted by representation in our training dataset).\n",
    "aug_df = train_df.iloc[:,8:10].drop_duplicates().\\\n",
    "                sort_values('cell_type_idx').reset_index().drop('index', axis=1)\n",
    "aug_df"
   ]
  },
  {
   "cell_type": "code",
   "execution_count": 23,
   "metadata": {},
   "outputs": [
    {
     "data": {
      "text/html": [
       "<div>\n",
       "<style scoped>\n",
       "    .dataframe tbody tr th:only-of-type {\n",
       "        vertical-align: middle;\n",
       "    }\n",
       "\n",
       "    .dataframe tbody tr th {\n",
       "        vertical-align: top;\n",
       "    }\n",
       "\n",
       "    .dataframe thead th {\n",
       "        text-align: right;\n",
       "    }\n",
       "</style>\n",
       "<table border=\"1\" class=\"dataframe\">\n",
       "  <thead>\n",
       "    <tr style=\"text-align: right;\">\n",
       "      <th></th>\n",
       "      <th>cell_type</th>\n",
       "      <th>cell_type_idx</th>\n",
       "      <th>aug_multiplier</th>\n",
       "    </tr>\n",
       "  </thead>\n",
       "  <tbody>\n",
       "    <tr>\n",
       "      <th>0</th>\n",
       "      <td>Melanocytic nevi</td>\n",
       "      <td>0</td>\n",
       "      <td>0</td>\n",
       "    </tr>\n",
       "    <tr>\n",
       "      <th>1</th>\n",
       "      <td>Melanoma</td>\n",
       "      <td>1</td>\n",
       "      <td>3</td>\n",
       "    </tr>\n",
       "    <tr>\n",
       "      <th>2</th>\n",
       "      <td>Benign keratosis-like lesions</td>\n",
       "      <td>2</td>\n",
       "      <td>3</td>\n",
       "    </tr>\n",
       "    <tr>\n",
       "      <th>3</th>\n",
       "      <td>Basal cell carcinoma</td>\n",
       "      <td>3</td>\n",
       "      <td>8</td>\n",
       "    </tr>\n",
       "    <tr>\n",
       "      <th>4</th>\n",
       "      <td>Actinic keratoses</td>\n",
       "      <td>4</td>\n",
       "      <td>13</td>\n",
       "    </tr>\n",
       "    <tr>\n",
       "      <th>5</th>\n",
       "      <td>Vascular lesions</td>\n",
       "      <td>5</td>\n",
       "      <td>30</td>\n",
       "    </tr>\n",
       "    <tr>\n",
       "      <th>6</th>\n",
       "      <td>Dermatofibroma</td>\n",
       "      <td>6</td>\n",
       "      <td>37</td>\n",
       "    </tr>\n",
       "  </tbody>\n",
       "</table>\n",
       "</div>"
      ],
      "text/plain": [
       "                        cell_type  cell_type_idx  aug_multiplier\n",
       "0                Melanocytic nevi              0               0\n",
       "1                        Melanoma              1               3\n",
       "2  Benign keratosis-like lesions               2               3\n",
       "3            Basal cell carcinoma              3               8\n",
       "4               Actinic keratoses              4              13\n",
       "5                Vascular lesions              5              30\n",
       "6                  Dermatofibroma              6              37"
      ]
     },
     "execution_count": 23,
     "metadata": {},
     "output_type": "execute_result"
    }
   ],
   "source": [
    "# Append an 'aug_multiplier' to aug_df that tells us how many augmented images to generate\n",
    "# for each training sample of a given class.\n",
    "\n",
    "target_image_count = len(train_df[train_df['dx'] == 'nv']) # 4276 - the number of images in our largest class\n",
    "\n",
    "aug_df['aug_multiplier'] = [target_image_count//i for i in tile_df['cell_type'].value_counts()]\n",
    "aug_df"
   ]
  },
  {
   "cell_type": "code",
   "execution_count": 24,
   "metadata": {},
   "outputs": [
    {
     "data": {
      "text/plain": [
       "{0: 0, 1: 3, 2: 3, 3: 8, 4: 13, 5: 30, 6: 37}"
      ]
     },
     "execution_count": 24,
     "metadata": {},
     "output_type": "execute_result"
    }
   ],
   "source": [
    "# Create a dictionary with keys = lesion_index, values = aumentation_multiplier\n",
    "\n",
    "temp_dict = aug_df.drop(['cell_type', 'cell_type_idx'], axis=1).to_dict()\n",
    "aug_dict = temp_dict.get('aug_multiplier')\n",
    "aug_dict"
   ]
  },
  {
   "cell_type": "code",
   "execution_count": 25,
   "metadata": {},
   "outputs": [],
   "source": [
    "# Create a new column in each dataframe that has our augmentation value for each sample\n",
    "\n",
    "tile_df['aug_multiplier'] = tile_df['cell_type_idx'].map(lambda x: aug_dict.get(x))\n",
    "train_df['aug_multiplier'] = train_df['cell_type_idx'].map(lambda x: aug_dict.get(x))"
   ]
  },
  {
   "cell_type": "code",
   "execution_count": 26,
   "metadata": {},
   "outputs": [
    {
     "data": {
      "text/html": [
       "<div>\n",
       "<style scoped>\n",
       "    .dataframe tbody tr th:only-of-type {\n",
       "        vertical-align: middle;\n",
       "    }\n",
       "\n",
       "    .dataframe tbody tr th {\n",
       "        vertical-align: top;\n",
       "    }\n",
       "\n",
       "    .dataframe thead th {\n",
       "        text-align: right;\n",
       "    }\n",
       "</style>\n",
       "<table border=\"1\" class=\"dataframe\">\n",
       "  <thead>\n",
       "    <tr style=\"text-align: right;\">\n",
       "      <th></th>\n",
       "      <th>lesion_id</th>\n",
       "      <th>image_id</th>\n",
       "      <th>dx</th>\n",
       "      <th>dx_type</th>\n",
       "      <th>age</th>\n",
       "      <th>sex</th>\n",
       "      <th>localization</th>\n",
       "      <th>path</th>\n",
       "      <th>cell_type</th>\n",
       "      <th>cell_type_idx</th>\n",
       "      <th>image</th>\n",
       "      <th>duplicates</th>\n",
       "      <th>train_or_val</th>\n",
       "      <th>aug_multiplier</th>\n",
       "    </tr>\n",
       "  </thead>\n",
       "  <tbody>\n",
       "    <tr>\n",
       "      <th>0</th>\n",
       "      <td>HAM_0000118</td>\n",
       "      <td>ISIC_0027419</td>\n",
       "      <td>bkl</td>\n",
       "      <td>histo</td>\n",
       "      <td>80.0</td>\n",
       "      <td>male</td>\n",
       "      <td>scalp</td>\n",
       "      <td>/Users/leaf/SpringBoard/Capstone/data/Kaggle_H...</td>\n",
       "      <td>Benign keratosis-like lesions</td>\n",
       "      <td>2</td>\n",
       "      <td>[[[188, 147, 191], [186, 148, 189], [187, 150,...</td>\n",
       "      <td>has_duplicates</td>\n",
       "      <td>train</td>\n",
       "      <td>3</td>\n",
       "    </tr>\n",
       "    <tr>\n",
       "      <th>1</th>\n",
       "      <td>HAM_0000118</td>\n",
       "      <td>ISIC_0025030</td>\n",
       "      <td>bkl</td>\n",
       "      <td>histo</td>\n",
       "      <td>80.0</td>\n",
       "      <td>male</td>\n",
       "      <td>scalp</td>\n",
       "      <td>/Users/leaf/SpringBoard/Capstone/data/Kaggle_H...</td>\n",
       "      <td>Benign keratosis-like lesions</td>\n",
       "      <td>2</td>\n",
       "      <td>[[[25, 15, 23], [25, 14, 22], [25, 14, 22], [2...</td>\n",
       "      <td>has_duplicates</td>\n",
       "      <td>train</td>\n",
       "      <td>3</td>\n",
       "    </tr>\n",
       "    <tr>\n",
       "      <th>2</th>\n",
       "      <td>HAM_0002730</td>\n",
       "      <td>ISIC_0026769</td>\n",
       "      <td>bkl</td>\n",
       "      <td>histo</td>\n",
       "      <td>80.0</td>\n",
       "      <td>male</td>\n",
       "      <td>scalp</td>\n",
       "      <td>/Users/leaf/SpringBoard/Capstone/data/Kaggle_H...</td>\n",
       "      <td>Benign keratosis-like lesions</td>\n",
       "      <td>2</td>\n",
       "      <td>[[[186, 128, 140], [188, 128, 136], [183, 126,...</td>\n",
       "      <td>has_duplicates</td>\n",
       "      <td>train</td>\n",
       "      <td>3</td>\n",
       "    </tr>\n",
       "  </tbody>\n",
       "</table>\n",
       "</div>"
      ],
      "text/plain": [
       "     lesion_id      image_id   dx dx_type   age   sex localization  \\\n",
       "0  HAM_0000118  ISIC_0027419  bkl   histo  80.0  male        scalp   \n",
       "1  HAM_0000118  ISIC_0025030  bkl   histo  80.0  male        scalp   \n",
       "2  HAM_0002730  ISIC_0026769  bkl   histo  80.0  male        scalp   \n",
       "\n",
       "                                                path  \\\n",
       "0  /Users/leaf/SpringBoard/Capstone/data/Kaggle_H...   \n",
       "1  /Users/leaf/SpringBoard/Capstone/data/Kaggle_H...   \n",
       "2  /Users/leaf/SpringBoard/Capstone/data/Kaggle_H...   \n",
       "\n",
       "                        cell_type  cell_type_idx  \\\n",
       "0  Benign keratosis-like lesions               2   \n",
       "1  Benign keratosis-like lesions               2   \n",
       "2  Benign keratosis-like lesions               2   \n",
       "\n",
       "                                               image      duplicates  \\\n",
       "0  [[[188, 147, 191], [186, 148, 189], [187, 150,...  has_duplicates   \n",
       "1  [[[25, 15, 23], [25, 14, 22], [25, 14, 22], [2...  has_duplicates   \n",
       "2  [[[186, 128, 140], [188, 128, 136], [183, 126,...  has_duplicates   \n",
       "\n",
       "  train_or_val  aug_multiplier  \n",
       "0        train               3  \n",
       "1        train               3  \n",
       "2        train               3  "
      ]
     },
     "execution_count": 26,
     "metadata": {},
     "output_type": "execute_result"
    }
   ],
   "source": [
    "tile_df.head(3)"
   ]
  },
  {
   "cell_type": "code",
   "execution_count": 27,
   "metadata": {},
   "outputs": [],
   "source": [
    "# The balanced directory will contain all of our balanced data after augmentation\n",
    "balanced_dir = os.path.join(root_dir, 'data', 'balanced_dir')\n",
    "os.mkdir(balanced_dir)\n",
    "\n",
    "train_dir = os.path.join(balanced_dir, 'train')\n",
    "os.mkdir(train_dir)\n",
    "test_dir = os.path.join(balanced_dir, 'test')\n",
    "os.mkdir(test_dir)\n",
    "valid_dir = os.path.join(balanced_dir, 'valid')\n",
    "os.mkdir(valid_dir)\n",
    "\n",
    "\n",
    "# Initiate folders by class within train, test and valid sets\n",
    "def create_class_directories(path):\n",
    "    nv = os.path.join(path, 'nv')\n",
    "    os.mkdir(nv)\n",
    "    mel = os.path.join(path, 'mel')\n",
    "    os.mkdir(mel)\n",
    "    bkl = os.path.join(path, 'bkl')\n",
    "    os.mkdir(bkl)\n",
    "    bcc = os.path.join(path, 'bcc')\n",
    "    os.mkdir(bcc)\n",
    "    akiec = os.path.join(path, 'akiec')\n",
    "    os.mkdir(akiec)\n",
    "    vasc = os.path.join(path, 'vasc')\n",
    "    os.mkdir(vasc)\n",
    "    df = os.path.join(path, 'df')\n",
    "    os.mkdir(df)\n",
    "    \n",
    "create_class_directories(os.path.join(train_dir))\n",
    "create_class_directories(os.path.join(test_dir))\n",
    "create_class_directories(os.path.join(valid_dir))"
   ]
  },
  {
   "cell_type": "code",
   "execution_count": 28,
   "metadata": {},
   "outputs": [],
   "source": [
    "# Initialize the data generator we will use to create our augmented data\n",
    "\n",
    "from keras.preprocessing.image import ImageDataGenerator, array_to_img, img_to_array, load_img\n",
    "\n",
    "datagen = ImageDataGenerator(\n",
    "        rescale=None,\n",
    "        rotation_range=30,\n",
    "        width_shift_range=0.1,\n",
    "        height_shift_range=0.1,\n",
    "        shear_range=0.1,\n",
    "        zoom_range=0.1,\n",
    "        horizontal_flip=True,\n",
    "        vertical_flip=True,\n",
    "        featurewise_center=False,  \n",
    "        samplewise_center=False,\n",
    "        featurewise_std_normalization=False,\n",
    "        samplewise_std_normalization=False,\n",
    "        fill_mode='reflect')"
   ]
  },
  {
   "cell_type": "code",
   "execution_count": 29,
   "metadata": {},
   "outputs": [],
   "source": [
    "# This loop will generate n augmentation images where n is our aug_multiplier.  Once these files have been generated, \n",
    "# we will have a relatively balanced dataset. \n",
    "\n",
    "for i, row in train_df.iterrows():\n",
    "    img = load_img(row['path'])  # this is a PIL image\n",
    "    x = img_to_array(img)  # this is a Numpy array with shape (600, 450, 3)\n",
    "    x = x.reshape((1,) + x.shape)  # this is a Numpy array with shape (1, 600, 450, 3)\n",
    "\n",
    "    counter = 0\n",
    "    if row['aug_multiplier'] != 0:  # Skip augmentation for class 'nv'\n",
    "        for batch in datagen.flow(x, batch_size = 1,\n",
    "                                    save_to_dir = os.path.join(balanced_dir, 'train', row['dx']),\n",
    "                                    save_prefix = row['dx'], save_format = 'jpeg'):\n",
    "            counter += 1\n",
    "            if counter > row['aug_multiplier']:\n",
    "                break  "
   ]
  },
  {
   "cell_type": "code",
   "execution_count": 30,
   "metadata": {},
   "outputs": [],
   "source": [
    "# Now that we have uploaded our augmentation images, we will add the original images to \n",
    "# their appropriate directories. Once that is complete, we will have a balanced training set\n",
    "# and test/validation sets that contain no similar images in the training group. "
   ]
  },
  {
   "cell_type": "code",
   "execution_count": 31,
   "metadata": {},
   "outputs": [],
   "source": [
    "# Since there is significant augmentation of the training images, the numbers are higher \n",
    "# in this category. \n",
    "def display_image_count():\n",
    "    for folder in os.listdir(balanced_dir):\n",
    "        if folder == '.ipynb_checkpoints':\n",
    "            pass\n",
    "        else:\n",
    "            print('#'* 60)\n",
    "            folder_total = 0\n",
    "            for path_ext in lesion_index_dict.keys():\n",
    "                folder_total += len(os.listdir(os.path.join(balanced_dir, folder, path_ext)))\n",
    "                print(f'Directory: \"{folder}/{path_ext}\" contains\\\n",
    "                      {len(os.listdir(os.path.join(balanced_dir, folder, path_ext)))} images')\n",
    "            print(\"\\n\", \" \" * 35, f\"Total {folder} images: {folder_total}\")"
   ]
  },
  {
   "cell_type": "code",
   "execution_count": 32,
   "metadata": {},
   "outputs": [
    {
     "name": "stdout",
     "output_type": "stream",
     "text": [
      "############################################################\n",
      "Directory: \"test/nv\" contains                      0 images\n",
      "Directory: \"test/mel\" contains                      0 images\n",
      "Directory: \"test/bkl\" contains                      0 images\n",
      "Directory: \"test/bcc\" contains                      0 images\n",
      "Directory: \"test/akiec\" contains                      0 images\n",
      "Directory: \"test/vasc\" contains                      0 images\n",
      "Directory: \"test/df\" contains                      0 images\n",
      "\n",
      "                                     Total test images: 0\n",
      "############################################################\n",
      "Directory: \"train/nv\" contains                      0 images\n",
      "Directory: \"train/mel\" contains                      3252 images\n",
      "Directory: \"train/bkl\" contains                      2882 images\n",
      "Directory: \"train/bcc\" contains                      3101 images\n",
      "Directory: \"train/akiec\" contains                      2919 images\n",
      "Directory: \"train/vasc\" contains                      2821 images\n",
      "Directory: \"train/df\" contains                      3003 images\n",
      "\n",
      "                                     Total train images: 17978\n",
      "############################################################\n",
      "Directory: \"valid/nv\" contains                      0 images\n",
      "Directory: \"valid/mel\" contains                      0 images\n",
      "Directory: \"valid/bkl\" contains                      0 images\n",
      "Directory: \"valid/bcc\" contains                      0 images\n",
      "Directory: \"valid/akiec\" contains                      0 images\n",
      "Directory: \"valid/vasc\" contains                      0 images\n",
      "Directory: \"valid/df\" contains                      0 images\n",
      "\n",
      "                                     Total valid images: 0\n"
     ]
    }
   ],
   "source": [
    "# These are all of our augmented images\n",
    "display_image_count()"
   ]
  },
  {
   "cell_type": "code",
   "execution_count": 33,
   "metadata": {},
   "outputs": [],
   "source": [
    "# The code in this cell is adapted from:\n",
    "# https://www.kaggle.com/vbookshelf/skin-lesion-analyzer-tensorflow-js-web-app\n",
    "\n",
    "# Set the image_id as the index in a temporary dataframe\n",
    "transfer_df = tile_df.set_index('image_id')\n",
    "\n",
    "# Get a list of images in each of the two folders\n",
    "folder_1 = os.listdir('../data/Kaggle_HAM10000/ham10000_images_part_1')\n",
    "folder_2 = os.listdir('../data/Kaggle_HAM10000/ham10000_images_part_2')\n",
    "\n",
    "# Get a list of train and val images\n",
    "train_list = list(train_df['image_id'])\n",
    "test_list = list(test_df['image_id'])\n",
    "valid_list = list(valid_df['image_id'])\n",
    "\n",
    "# Transfer training images\n",
    "for image in train_list:\n",
    "    \n",
    "    fname = image + '.jpg'\n",
    "    label = transfer_df.loc[image,'dx']\n",
    "    \n",
    "    if fname in folder_1:\n",
    "        # source path to image\n",
    "        src = os.path.join('../data/Kaggle_HAM10000/ham10000_images_part_1', fname)\n",
    "        # destination path to image\n",
    "        dst = os.path.join(train_dir, label, fname)\n",
    "        # copy the image from the source to the destination\n",
    "        shutil.copyfile(src, dst)\n",
    "\n",
    "    if fname in folder_2:\n",
    "        # source path to image\n",
    "        src = os.path.join('../data/Kaggle_HAM10000/ham10000_images_part_2', fname)\n",
    "        # destination path to image\n",
    "        dst = os.path.join(train_dir, label, fname)\n",
    "        # copy the image from the source to the destination\n",
    "        shutil.copyfile(src, dst)\n",
    "        \n",
    "# Transfer test images\n",
    "\n",
    "for image in test_list:\n",
    "    \n",
    "    fname = image + '.jpg'\n",
    "    label = transfer_df.loc[image,'dx']\n",
    "    \n",
    "    if fname in folder_1:\n",
    "        # source path to image\n",
    "        src = os.path.join('../data/Kaggle_HAM10000/ham10000_images_part_1', fname)\n",
    "        # destination path to image\n",
    "        dst = os.path.join(test_dir, label, fname)\n",
    "        # copy the image from the source to the destination\n",
    "        shutil.copyfile(src, dst)\n",
    "\n",
    "    if fname in folder_2:\n",
    "        # source path to image\n",
    "        src = os.path.join('../data/Kaggle_HAM10000/ham10000_images_part_2', fname)\n",
    "        # destination path to image\n",
    "        dst = os.path.join(test_dir, label, fname)\n",
    "        # copy the image from the source to the destination\n",
    "        shutil.copyfile(src, dst)\n",
    "\n",
    "# Transfer the validation images\n",
    "\n",
    "for image in valid_list:\n",
    "    \n",
    "    fname = image + '.jpg'\n",
    "    label = transfer_df.loc[image,'dx']\n",
    "    \n",
    "    if fname in folder_1:\n",
    "        # source path to image\n",
    "        src = os.path.join('../data/Kaggle_HAM10000/ham10000_images_part_1', fname)\n",
    "        # destination path to image\n",
    "        dst = os.path.join(valid_dir, label, fname)\n",
    "        # copy the image from the source to the destination\n",
    "        shutil.copyfile(src, dst)\n",
    "\n",
    "    if fname in folder_2:\n",
    "        # source path to image\n",
    "        src = os.path.join('../data/Kaggle_HAM10000/ham10000_images_part_2', fname)\n",
    "        # destination path to image\n",
    "        dst = os.path.join(valid_dir, label, fname)\n",
    "        # copy the image from the source to the destination\n",
    "        shutil.copyfile(src, dst)"
   ]
  },
  {
   "cell_type": "code",
   "execution_count": 34,
   "metadata": {},
   "outputs": [
    {
     "name": "stdout",
     "output_type": "stream",
     "text": [
      "############################################################\n",
      "Directory: \"test/nv\" contains                      1943 images\n",
      "Directory: \"test/mel\" contains                      102 images\n",
      "Directory: \"test/bkl\" contains                      193 images\n",
      "Directory: \"test/bcc\" contains                      77 images\n",
      "Directory: \"test/akiec\" contains                      66 images\n",
      "Directory: \"test/vasc\" contains                      28 images\n",
      "Directory: \"test/df\" contains                      17 images\n",
      "\n",
      "                                     Total test images: 2426\n",
      "############################################################\n",
      "Directory: \"train/nv\" contains                      4276 images\n",
      "Directory: \"train/mel\" contains                      4238 images\n",
      "Directory: \"train/bkl\" contains                      3739 images\n",
      "Directory: \"train/bcc\" contains                      3519 images\n",
      "Directory: \"train/akiec\" contains                      3163 images\n",
      "Directory: \"train/vasc\" contains                      2928 images\n",
      "Directory: \"train/df\" contains                      3097 images\n",
      "\n",
      "                                     Total train images: 24960\n",
      "############################################################\n",
      "Directory: \"valid/nv\" contains                      486 images\n",
      "Directory: \"valid/mel\" contains                      25 images\n",
      "Directory: \"valid/bkl\" contains                      49 images\n",
      "Directory: \"valid/bcc\" contains                      19 images\n",
      "Directory: \"valid/akiec\" contains                      17 images\n",
      "Directory: \"valid/vasc\" contains                      7 images\n",
      "Directory: \"valid/df\" contains                      4 images\n",
      "\n",
      "                                     Total valid images: 607\n"
     ]
    }
   ],
   "source": [
    "# This is our complete dataset with the original images added\n",
    "display_image_count()"
   ]
  }
 ],
 "metadata": {
  "kernelspec": {
   "display_name": "Python 3",
   "language": "python",
   "name": "python3"
  },
  "language_info": {
   "codemirror_mode": {
    "name": "ipython",
    "version": 3
   },
   "file_extension": ".py",
   "mimetype": "text/x-python",
   "name": "python",
   "nbconvert_exporter": "python",
   "pygments_lexer": "ipython3",
   "version": "3.7.3"
  }
 },
 "nbformat": 4,
 "nbformat_minor": 4
}
